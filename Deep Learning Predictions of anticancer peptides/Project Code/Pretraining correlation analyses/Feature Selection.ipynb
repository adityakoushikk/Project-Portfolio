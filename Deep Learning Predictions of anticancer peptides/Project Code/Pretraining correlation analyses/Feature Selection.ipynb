{
 "cells": [
  {
   "cell_type": "code",
   "execution_count": null,
   "metadata": {},
   "outputs": [],
   "source": [
    "lizz = []\n",
    "x=0\n",
    "with open('UCIFINALFINALCopy.txt', 'r') as fp:\n",
    "    for line in fp:\n",
    "        seq = line[:-1]\n",
    "        if(x%2==0):\n",
    "            if 'seqACP' in seq and :\n",
    "                \n",
    "                lizz.append('>seqACP' + str(x) + '\\n')\n",
    "            else:\n",
    "                \n",
    "\n",
    "                lizz.append('>teNEGATIVE' + str(x) + '\\n')\n",
    "\n",
    "        else:\n",
    "            if (len(seq)) > 7:\n",
    "                lizz.append(seq + '\\n')\n",
    "            else:\n",
    "                \n",
    "        x+=1\n",
    "\n"
   ]
  },
  {
   "cell_type": "code",
   "execution_count": null,
   "metadata": {},
   "outputs": [],
   "source": [
    "\n",
    "# opening the file in read mode\n",
    "my_file = open(\"UCIFINALFINALCopy.txt\", \"r\")\n",
    "  \n",
    "# reading the file\n",
    "data = my_file.read()\n",
    "  \n",
    "# replacing end splitting the text \n",
    "# when newline ('\\n') is seen.\n",
    "lizz = data.split(\"\\n\")\n"
   ]
  },
  {
   "cell_type": "code",
   "execution_count": null,
   "metadata": {},
   "outputs": [],
   "source": [
    "len(lizz)"
   ]
  },
  {
   "cell_type": "code",
   "execution_count": null,
   "metadata": {},
   "outputs": [],
   "source": [
    "number = 0\n",
    "lizz2 = []\n",
    "for count in range (len(lizz)):\n",
    "    if 'seq' in lizz[count] or 'teNEG' in lizz[count]:\n",
    "        if not count == len(lizz):\n",
    "            if not 'seq' in lizz[count+1] or 'teNEG' in lizz[count+1]:\n",
    "                number +=1\n",
    "                lizz2.append(lizz[count] + '\\n')\n",
    "    else:\n",
    "        if len(lizz[count]) > 7:\n",
    "            lizz2.append(lizz[count] + '\\n')\n",
    "print(number)"
   ]
  },
  {
   "cell_type": "code",
   "execution_count": null,
   "metadata": {},
   "outputs": [],
   "source": [
    "file1 = open(\"UCIFINALFINAL.txt\", \"w\")\n",
    "file1.writelines(lizz2)\n",
    "file1.close()"
   ]
  },
  {
   "cell_type": "code",
   "execution_count": null,
   "metadata": {},
   "outputs": [],
   "source": [
    "lens = 0\n",
    "nonCount = []\n",
    "arrs = []\n",
    "with open('UCIFINALFINAL.txt', 'r') as fp:\n",
    "    for line in fp:\n",
    "        seq = line[:-1]\n",
    "        if len(seq) > 7:\n",
    "            lens+=1\n",
    "            arrs.append(seq + '\\n')\n",
    "        else:\n",
    "            nonCount.append(seq)"
   ]
  },
  {
   "cell_type": "code",
   "execution_count": null,
   "metadata": {},
   "outputs": [],
   "source": [
    "print(lens)"
   ]
  },
  {
   "cell_type": "code",
   "execution_count": null,
   "metadata": {},
   "outputs": [],
   "source": [
    "len(arrs)"
   ]
  },
  {
   "cell_type": "code",
   "execution_count": null,
   "metadata": {},
   "outputs": [],
   "source": [
    "nonCount"
   ]
  },
  {
   "cell_type": "code",
   "execution_count": null,
   "metadata": {},
   "outputs": [],
   "source": [
    "def fastaconverter(lizz):\n",
    "    lizz2 = []\n",
    "    count1 = 0\n",
    "    for i in lizz:\n",
    "        lizz2.append('>seq' + str(count1) + '\\n')\n",
    "        lizz2.append(i+'\\n')\n",
    "        count1+=1\n",
    "    return lizz2"
   ]
  },
  {
   "cell_type": "code",
   "execution_count": null,
   "metadata": {},
   "outputs": [],
   "source": [
    "lists = []\n",
    "with open('allMFF.txt', 'r') as fp:\n",
    "    for line in fp:\n",
    "        seq = line[:-1]\n",
    "        lists.append(seq)\n"
   ]
  },
  {
   "cell_type": "code",
   "execution_count": null,
   "metadata": {},
   "outputs": [],
   "source": [
    "lists2 = [x.upper() for x in lists]"
   ]
  },
  {
   "cell_type": "code",
   "execution_count": null,
   "metadata": {},
   "outputs": [],
   "source": [
    "lists3 = []\n",
    "for x in lists2:\n",
    "    if len(x) <7:\n",
    "        ;\n",
    "    else:\n",
    "        lists3.append(x)"
   ]
  },
  {
   "cell_type": "code",
   "execution_count": null,
   "metadata": {},
   "outputs": [],
   "source": [
    "len(lists3)"
   ]
  },
  {
   "cell_type": "code",
   "execution_count": null,
   "metadata": {},
   "outputs": [],
   "source": [
    "res = [*set(lists3)]"
   ]
  },
  {
   "cell_type": "code",
   "execution_count": null,
   "metadata": {},
   "outputs": [],
   "source": [
    "len(res)\n"
   ]
  },
  {
   "cell_type": "code",
   "execution_count": null,
   "metadata": {},
   "outputs": [],
   "source": [
    "finallizz= fastaconverter(res)\n",
    "finallizz"
   ]
  },
  {
   "cell_type": "code",
   "execution_count": null,
   "metadata": {},
   "outputs": [],
   "source": [
    "# opening the file in read mode\n",
    "my_file = open(\"UCIFINALFINAL.txt\", \"r\")\n",
    "  \n",
    "# reading the file\n",
    "data = my_file.read()\n",
    "  \n",
    "# replacing end splitting the text \n",
    "# when newline ('\\n') is seen.\n",
    "lizz = data.split(\"\\n\")\n",
    "\n",
    "number = 0\n",
    "arrs = []\n",
    "for count in range (len(lizz)):\n",
    "    if 'seq' in lizz[count] or 'teNEG' in lizz[count]:\n",
    "        if not count == len(lizz):\n",
    "            if 'seq' in lizz[count+1] or 'teNEG' in lizz[count+1]:\n",
    "                number +=1\n",
    "                arrs.append(lizz[count] + '\\n')\n",
    "print(number)"
   ]
  },
  {
   "cell_type": "code",
   "execution_count": null,
   "metadata": {},
   "outputs": [],
   "source": [
    "arrs"
   ]
  },
  {
   "cell_type": "code",
   "execution_count": null,
   "metadata": {},
   "outputs": [],
   "source": [
    "lens = 0\n",
    "counts = 0\n",
    "with open('MFFfinalCopy.txt', 'r') as fp:\n",
    "    for line in fp:\n",
    "        seq = line[:-1]\n",
    "        if lens < 172:\n",
    "            if len(seq) < 7:\n",
    "                counts+=1 \n",
    "        lens+=1\n",
    "print(counts)\n"
   ]
  },
  {
   "cell_type": "code",
   "execution_count": null,
   "metadata": {},
   "outputs": [],
   "source": [
    "print(lens)"
   ]
  },
  {
   "cell_type": "code",
   "execution_count": null,
   "metadata": {},
   "outputs": [],
   "source": [
    "file1 = open(\"allMFF.txt\", \"w\")\n",
    "file1.writelines(finallizz)\n",
    "file1.close()"
   ]
  },
  {
   "cell_type": "code",
   "execution_count": null,
   "metadata": {},
   "outputs": [],
   "source": [
    "lens = 0\n",
    "with open('UCIFINALFINALCopy.txt', 'r') as fp:\n",
    "    for line in fp:\n",
    "        seq = line[:-1]\n",
    "        if '>' in seq:\n",
    "            ;\n",
    "        else:\n",
    "            if (len(seq)) < 7:\n",
    "                lens+=1"
   ]
  },
  {
   "cell_type": "code",
   "execution_count": null,
   "metadata": {},
   "outputs": [],
   "source": [
    "print(lens)"
   ]
  },
  {
   "cell_type": "code",
   "execution_count": null,
   "metadata": {},
   "outputs": [],
   "source": [
    "import pandas as pd"
   ]
  },
  {
   "cell_type": "code",
   "execution_count": null,
   "metadata": {},
   "outputs": [],
   "source": [
    "dfconfig = pd.read_csv('/Users/kiranbhaskar/Desktop/2023scifaircode/FeatureSelection/AACassayBig.csv')"
   ]
  },
  {
   "cell_type": "code",
   "execution_count": null,
   "metadata": {},
   "outputs": [],
   "source": [
    "dfconfig"
   ]
  },
  {
   "cell_type": "code",
   "execution_count": null,
   "metadata": {},
   "outputs": [],
   "source": [
    "labellist = []\n",
    "for ind in dfconfig.index:\n",
    "    if 'seq' in str(dfconfig['#'][ind]):\n",
    "        labellist.append(1)\n",
    "    else:\n",
    "        labellist.append(0)\n"
   ]
  },
  {
   "cell_type": "code",
   "execution_count": null,
   "metadata": {},
   "outputs": [],
   "source": [
    "dfconfig['Label'] = labellist"
   ]
  },
  {
   "cell_type": "code",
   "execution_count": null,
   "metadata": {},
   "outputs": [],
   "source": [
    "dfconfig"
   ]
  },
  {
   "cell_type": "code",
   "execution_count": null,
   "metadata": {},
   "outputs": [],
   "source": [
    "pd.set_option('display.max_columns', None)\n",
    "pd.set_option('display.max_rows', None)"
   ]
  },
  {
   "cell_type": "code",
   "execution_count": null,
   "metadata": {},
   "outputs": [],
   "source": [
    "dfconfig[0:173].describe()"
   ]
  },
  {
   "cell_type": "code",
   "execution_count": null,
   "metadata": {},
   "outputs": [],
   "source": [
    "dfconfig.corr()"
   ]
  },
  {
   "cell_type": "code",
   "execution_count": null,
   "metadata": {},
   "outputs": [],
   "source": [
    "import matplotlib.pyplot as plt\n",
    "import seaborn as sns\n",
    "#sns.set(font_scale=1.4)\n",
    "plt.figure(figsize=(20,20))\n",
    "sns.heatmap(dfconfig.corr(),annot=True,cmap='PiYG')\n",
    "plt.show()"
   ]
  },
  {
   "cell_type": "code",
   "execution_count": null,
   "metadata": {},
   "outputs": [],
   "source": [
    "from scipy.stats import pearsonr\n",
    "import pandas as pd\n",
    "\n",
    "def calculate_pvalues(df):\n",
    "    dfcols = pd.DataFrame(columns=df.columns)\n",
    "    pvalues = dfcols.transpose().join(dfcols, how='outer')\n",
    "    for r in df.columns:\n",
    "        for c in df.columns:\n",
    "            tmp = df[df[r].notnull() & df[c].notnull()]\n",
    "            pvalues[r][c] = round(pearsonr(tmp[r], tmp[c])[1], 4)\n",
    "    return pvalues"
   ]
  },
  {
   "cell_type": "code",
   "execution_count": null,
   "metadata": {},
   "outputs": [],
   "source": [
    "dfconfig = dfconfig.drop(columns = \"#\")\n"
   ]
  },
  {
   "cell_type": "code",
   "execution_count": null,
   "metadata": {},
   "outputs": [],
   "source": [
    "calculate_pvalues(dfk.drop(columns = '#'))"
   ]
  },
  {
   "cell_type": "code",
   "execution_count": null,
   "metadata": {},
   "outputs": [],
   "source": [
    "dfg = pd.read_csv('/Users/kiranbhaskar/Desktop/2023scifaircode/FeatureSelection/GAACassayBig.csv')"
   ]
  },
  {
   "cell_type": "code",
   "execution_count": null,
   "metadata": {},
   "outputs": [],
   "source": [
    "dfg"
   ]
  },
  {
   "cell_type": "code",
   "execution_count": null,
   "metadata": {},
   "outputs": [],
   "source": [
    "labellist = []\n",
    "for ind in dfg.index:\n",
    "    if 'seq' in str(dfg['#'][ind]):\n",
    "        labellist.append(1)\n",
    "    else:\n",
    "        labellist.append(0)\n",
    "dfg['Label'] = labellist"
   ]
  },
  {
   "cell_type": "code",
   "execution_count": null,
   "metadata": {
    "scrolled": true
   },
   "outputs": [],
   "source": [
    "dfg[0:173].corr()"
   ]
  },
  {
   "cell_type": "code",
   "execution_count": null,
   "metadata": {},
   "outputs": [],
   "source": [
    "import matplotlib.pyplot as plt\n",
    "import seaborn as sns\n",
    "plt.figure(figsize=(7,7))\n",
    "sns.heatmap(dfg.corr(),annot=True,cmap='PiYG')\n",
    "plt.show()"
   ]
  },
  {
   "cell_type": "code",
   "execution_count": null,
   "metadata": {},
   "outputs": [],
   "source": [
    "import pandas as pd\n",
    "dfc = pd.read_csv('/Users/kiranbhaskar/Desktop/2023scifaircode/FeatureSelection/CTDDassayBig.csv')\n",
    "\n",
    "\n"
   ]
  },
  {
   "cell_type": "code",
   "execution_count": null,
   "metadata": {},
   "outputs": [],
   "source": [
    "dfc"
   ]
  },
  {
   "cell_type": "code",
   "execution_count": null,
   "metadata": {},
   "outputs": [],
   "source": [
    "labellist = []\n",
    "for ind in dfc.index:\n",
    "    if 'seq' in str(dfc['#'][ind]):\n",
    "        labellist.append(1)\n",
    "    else:\n",
    "        labellist.append(0)\n",
    "dfc['Label'] = labellist"
   ]
  },
  {
   "cell_type": "code",
   "execution_count": null,
   "metadata": {},
   "outputs": [],
   "source": [
    "rizz = dfc.corr()['Label']"
   ]
  },
  {
   "cell_type": "code",
   "execution_count": null,
   "metadata": {},
   "outputs": [],
   "source": [
    "dfc"
   ]
  },
  {
   "cell_type": "code",
   "execution_count": null,
   "metadata": {},
   "outputs": [],
   "source": [
    "rizz"
   ]
  },
  {
   "cell_type": "code",
   "execution_count": null,
   "metadata": {},
   "outputs": [],
   "source": [
    "lens = 0\n",
    "arr = []\n",
    "for i in rizz:\n",
    "    if abs(i) > 0.4:\n",
    "        print(lens)\n",
    "        arr.append(lens)\n",
    "    \n",
    "        \n",
    "    lens+=1"
   ]
  },
  {
   "cell_type": "code",
   "execution_count": null,
   "metadata": {},
   "outputs": [],
   "source": [
    "rizz.iloc[arr]"
   ]
  },
  {
   "cell_type": "code",
   "execution_count": null,
   "metadata": {},
   "outputs": [],
   "source": [
    "dfk = pd.read_csv('/Users/kiranbhaskar/Desktop/2023scifaircode/FeatureSelection/CKSAAGP5.csv')"
   ]
  },
  {
   "cell_type": "code",
   "execution_count": null,
   "metadata": {},
   "outputs": [],
   "source": [
    "labellist = []\n",
    "for ind in dfk.index:\n",
    "    if 'seq' in str(dfg['#'][ind]):\n",
    "        labellist.append(1)\n",
    "    else:\n",
    "        labellist.append(0)\n",
    "dfk['Label'] = labellist"
   ]
  },
  {
   "cell_type": "code",
   "execution_count": null,
   "metadata": {},
   "outputs": [],
   "source": [
    "dfk"
   ]
  },
  {
   "cell_type": "code",
   "execution_count": null,
   "metadata": {},
   "outputs": [],
   "source": [
    "dfk.corr()"
   ]
  },
  {
   "cell_type": "code",
   "execution_count": null,
   "metadata": {},
   "outputs": [],
   "source": [
    "rizz = dfk.corr()['Label']\n",
    "lens = 0\n",
    "for i in rizz:\n",
    "    if abs(i) > 0.5:\n",
    "        lens+=1\n",
    "print(lens)\n",
    "    "
   ]
  },
  {
   "cell_type": "code",
   "execution_count": null,
   "metadata": {},
   "outputs": [],
   "source": [
    "lens = 0\n",
    "arr = [ ]\n",
    "for i in rizz:\n",
    "    if abs(i) > 0.4:\n",
    "        print(lens)\n",
    "        arr.append(lens)\n",
    "    \n",
    "        \n",
    "    lens+=1"
   ]
  },
  {
   "cell_type": "code",
   "execution_count": null,
   "metadata": {},
   "outputs": [],
   "source": [
    "rizz.iloc[arr]"
   ]
  },
  {
   "cell_type": "code",
   "execution_count": null,
   "metadata": {},
   "outputs": [],
   "source": []
  },
  {
   "cell_type": "code",
   "execution_count": null,
   "metadata": {},
   "outputs": [],
   "source": [
    "dfgk = pd.read_csv('/Users/kiranbhaskar/Desktop/2023 sci fiar code/Feature Selection/CKSAAGPassayBig3.csv')"
   ]
  },
  {
   "cell_type": "code",
   "execution_count": null,
   "metadata": {},
   "outputs": [],
   "source": [
    "labellist = []\n",
    "for ind in dfgk.index:\n",
    "    if 'seq' in str(dfg['#'][ind]):\n",
    "        labellist.append(1)\n",
    "    else:\n",
    "        labellist.append(0)\n",
    "dfgk['Label'] = labellist"
   ]
  },
  {
   "cell_type": "code",
   "execution_count": null,
   "metadata": {},
   "outputs": [],
   "source": [
    "dfgk.head()"
   ]
  },
  {
   "cell_type": "code",
   "execution_count": null,
   "metadata": {},
   "outputs": [],
   "source": [
    "dfgk.corr()"
   ]
  },
  {
   "cell_type": "code",
   "execution_count": null,
   "metadata": {},
   "outputs": [],
   "source": [
    "rizz = dfgk.corr()['Label']\n",
    "lens = 0\n",
    "for i in rizz:\n",
    "    if abs(i) > 0.5:\n",
    "        lens+=1\n",
    "print(lens)"
   ]
  },
  {
   "cell_type": "code",
   "execution_count": null,
   "metadata": {},
   "outputs": [],
   "source": [
    "dfctc = pd.read_csv('/Users/kiranbhaskar/Desktop/2023 sci fiar code/Feature Selection/CTDCassayBig.csv')"
   ]
  },
  {
   "cell_type": "code",
   "execution_count": null,
   "metadata": {},
   "outputs": [],
   "source": [
    "labellist = []\n",
    "for ind in dfctc.index:\n",
    "    if 'seq' in str(dfg['#'][ind]):\n",
    "        labellist.append(1)\n",
    "    else:\n",
    "        labellist.append(0)\n",
    "dfctc['Label'] = labellist"
   ]
  },
  {
   "cell_type": "code",
   "execution_count": null,
   "metadata": {},
   "outputs": [],
   "source": [
    "dfctc"
   ]
  },
  {
   "cell_type": "code",
   "execution_count": null,
   "metadata": {},
   "outputs": [],
   "source": [
    "dfctc.corr()"
   ]
  },
  {
   "cell_type": "code",
   "execution_count": null,
   "metadata": {},
   "outputs": [],
   "source": [
    "plt.figure(figsize=(50,50))\n",
    "sns.heatmap(dfctc.corr(),annot=True,cmap='PiYG')\n",
    "plt.show()"
   ]
  },
  {
   "cell_type": "code",
   "execution_count": null,
   "metadata": {},
   "outputs": [],
   "source": [
    "dfctt = pd.read_csv('/Users/kiranbhaskar/Desktop/2023 sci fiar code/Feature Selection/CTDTassayBig.csv')"
   ]
  },
  {
   "cell_type": "code",
   "execution_count": null,
   "metadata": {},
   "outputs": [],
   "source": [
    "dfctt"
   ]
  },
  {
   "cell_type": "code",
   "execution_count": null,
   "metadata": {},
   "outputs": [],
   "source": []
  },
  {
   "cell_type": "code",
   "execution_count": null,
   "metadata": {},
   "outputs": [],
   "source": [
    "plt.figure(figsize=(50,50))\n",
    "sns.heatmap(dfctt.corr(),annot=True,cmap='PiYG')\n",
    "plt.show()"
   ]
  },
  {
   "cell_type": "code",
   "execution_count": null,
   "metadata": {},
   "outputs": [],
   "source": [
    "dftriad = pd.read_csv('/Users/kiranbhaskar/Desktop/2023 sci fiar code/Feature Selection/CTriadassayBig.csv')"
   ]
  },
  {
   "cell_type": "code",
   "execution_count": null,
   "metadata": {},
   "outputs": [],
   "source": [
    "labellist = []\n",
    "for ind in dftriad.index:\n",
    "    if 'seq' in str(dfg['#'][ind]):\n",
    "        labellist.append(1)\n",
    "    else:\n",
    "        labellist.append(0)\n",
    "dftriad['Label'] = labellist"
   ]
  },
  {
   "cell_type": "code",
   "execution_count": null,
   "metadata": {},
   "outputs": [],
   "source": [
    "dftriad"
   ]
  },
  {
   "cell_type": "code",
   "execution_count": null,
   "metadata": {},
   "outputs": [],
   "source": [
    "rizz = dftriad.corr()['Label']\n",
    "lens = 0\n",
    "for i in rizz:\n",
    "    if abs(i) > 0.5:\n",
    "        lens+=1\n",
    "print(lens)"
   ]
  },
  {
   "cell_type": "code",
   "execution_count": null,
   "metadata": {},
   "outputs": [],
   "source": [
    "dfctk = pd.read_csv('/Users/kiranbhaskar/Desktop/2023 sci fiar code/Feature Selection/KSCTriadassay.csv')"
   ]
  },
  {
   "cell_type": "code",
   "execution_count": null,
   "metadata": {},
   "outputs": [],
   "source": [
    "labellist = []\n",
    "for ind in dfctk.index:\n",
    "    if 'seq' in str(dfctk['#'][ind]):\n",
    "        labellist.append(1)\n",
    "    else:\n",
    "        labellist.append(0)\n",
    "dfctk['Label'] = labellist"
   ]
  },
  {
   "cell_type": "code",
   "execution_count": null,
   "metadata": {},
   "outputs": [],
   "source": [
    "dfctk"
   ]
  },
  {
   "cell_type": "code",
   "execution_count": null,
   "metadata": {},
   "outputs": [],
   "source": [
    "rizz = dfctk.corr()['Label']\n",
    "lens = 0\n",
    "for i in rizz:\n",
    "    if abs(i) > 0.5:\n",
    "        lens+=1\n",
    "print(lens)"
   ]
  },
  {
   "cell_type": "code",
   "execution_count": null,
   "metadata": {},
   "outputs": [],
   "source": [
    "dfSOC = pd.read_csv('/Users/kbhaskar/Desktop/2023 sci fiar code/Feature Selection/SOC.csv')"
   ]
  },
  {
   "cell_type": "code",
   "execution_count": null,
   "metadata": {},
   "outputs": [],
   "source": [
    "labellist = []\n",
    "for ind in dfSOC.index:\n",
    "    if 'seqACP' in str(dfSOC['#'][ind]):\n",
    "        labellist.append(1)\n",
    "    else:\n",
    "        labellist.append(0)\n",
    "dfSOC['Label'] = labellist"
   ]
  },
  {
   "cell_type": "code",
   "execution_count": null,
   "metadata": {},
   "outputs": [],
   "source": [
    "dfSOC"
   ]
  },
  {
   "cell_type": "code",
   "execution_count": null,
   "metadata": {},
   "outputs": [],
   "source": [
    "dfSOC.corr()\n"
   ]
  },
  {
   "cell_type": "code",
   "execution_count": null,
   "metadata": {},
   "outputs": [],
   "source": [
    "plt.figure(figsize=(20,20))\n",
    "sns.heatmap(dfSOC.corr(),annot=True,cmap='PiYG')\n",
    "plt.show()"
   ]
  },
  {
   "cell_type": "code",
   "execution_count": null,
   "metadata": {},
   "outputs": [],
   "source": [
    "import pandas as pd\n",
    "dfPAAC = pd.read_csv('/Users/kbhaskar/Desktop/2023 sci fiar code/Feature Selection/PAAC.csv')\n",
    "labellist = []\n",
    "for ind in dfPAAC.index:\n",
    "    if 'seqACP' in str(dfPAAC['#'][ind]):\n",
    "        labellist.append(1)\n",
    "    else:\n",
    "        labellist.append(0)\n",
    "dfPAAC['Label'] = labellist"
   ]
  },
  {
   "cell_type": "code",
   "execution_count": null,
   "metadata": {},
   "outputs": [],
   "source": [
    "dfPAAC"
   ]
  },
  {
   "cell_type": "code",
   "execution_count": null,
   "metadata": {},
   "outputs": [],
   "source": []
  },
  {
   "cell_type": "code",
   "execution_count": null,
   "metadata": {},
   "outputs": [],
   "source": [
    "dfPAAC.corr() #3 above 0.4"
   ]
  },
  {
   "cell_type": "code",
   "execution_count": null,
   "metadata": {},
   "outputs": [],
   "source": [
    "import pandas as pd\n",
    "dfAPAAC = pd.read_csv('/Users/kiranbhaskar/Desktop/2023 sci fiar code/Feature Selection/APAACassay.csv')"
   ]
  },
  {
   "cell_type": "code",
   "execution_count": null,
   "metadata": {},
   "outputs": [],
   "source": [
    "labellist = []\n",
    "for ind in dfAPAAC.index:\n",
    "    if 'seq' in str(dfAPAAC['#'][ind]):\n",
    "        labellist.append(1)\n",
    "    else:\n",
    "        labellist.append(0)\n",
    "dfAPAAC['Label'] = labellist"
   ]
  },
  {
   "cell_type": "code",
   "execution_count": null,
   "metadata": {},
   "outputs": [],
   "source": [
    "dfAPAAC\n"
   ]
  },
  {
   "cell_type": "code",
   "execution_count": null,
   "metadata": {},
   "outputs": [],
   "source": [
    "dfAPAAC.corr() #4 features with above 0.4 correlations"
   ]
  },
  {
   "cell_type": "code",
   "execution_count": null,
   "metadata": {},
   "outputs": [],
   "source": [
    "dfDP = pd.read_csv('/Users/kbhaskar/Desktop/2023 sci fiar code/Feature Selection/CTDDassay.csv')"
   ]
  },
  {
   "cell_type": "code",
   "execution_count": null,
   "metadata": {},
   "outputs": [],
   "source": [
    "dfDP.columns"
   ]
  },
  {
   "cell_type": "code",
   "execution_count": null,
   "metadata": {},
   "outputs": [],
   "source": [
    "#dfDP = dfDP.iloc[: , 1:]"
   ]
  },
  {
   "cell_type": "code",
   "execution_count": null,
   "metadata": {},
   "outputs": [],
   "source": [
    "labellist = []\n",
    "for ind in dfDP.index:\n",
    "    if 'seq' in str(dfDP[' '][ind]):\n",
    "        labellist.append(1)\n",
    "    else:\n",
    "        labellist.append(0)\n",
    "dfDP['Label'] = labellist"
   ]
  },
  {
   "cell_type": "code",
   "execution_count": null,
   "metadata": {},
   "outputs": [],
   "source": [
    "dfDP = dfDP.iloc[: , 1:]"
   ]
  },
  {
   "cell_type": "code",
   "execution_count": null,
   "metadata": {},
   "outputs": [],
   "source": [
    "dfDP"
   ]
  },
  {
   "cell_type": "code",
   "execution_count": null,
   "metadata": {},
   "outputs": [],
   "source": [
    "rizz = dfDP.corr()['Label']\n",
    "lens = 0\n",
    "for i in rizz:\n",
    "    if abs(i) > 0.4:\n",
    "        lens+=1\n",
    "print(lens)"
   ]
  },
  {
   "cell_type": "code",
   "execution_count": null,
   "metadata": {},
   "outputs": [],
   "source": [
    "dfQSO = pd.read_csv('/Users/kbhaskar/Desktop/2023 sci fiar code/Feature Selection/QSO.csv')"
   ]
  },
  {
   "cell_type": "code",
   "execution_count": null,
   "metadata": {},
   "outputs": [],
   "source": [
    "labellist = []\n",
    "for ind in dfQSO.index:\n",
    "    if 'seqACP' in str(dfQSO['#'][ind]):\n",
    "        labellist.append(1)\n",
    "    else:\n",
    "        labellist.append(0)\n",
    "dfQSO['Label'] = labellist"
   ]
  },
  {
   "cell_type": "code",
   "execution_count": null,
   "metadata": {},
   "outputs": [],
   "source": [
    "dfQSO"
   ]
  },
  {
   "cell_type": "code",
   "execution_count": null,
   "metadata": {},
   "outputs": [],
   "source": [
    "dfQSO.corr()"
   ]
  },
  {
   "cell_type": "code",
   "execution_count": null,
   "metadata": {},
   "outputs": [],
   "source": [
    "dfAPAAC"
   ]
  },
  {
   "cell_type": "code",
   "execution_count": null,
   "metadata": {},
   "outputs": [],
   "source": [
    "dfAPAAC = dfAPAAC.drop(columns = '#')\n",
    "#dfAPAAC = dfAPAAC.drop(columns = 'Label')"
   ]
  },
  {
   "cell_type": "code",
   "execution_count": null,
   "metadata": {},
   "outputs": [],
   "source": [
    "#dfPAAC\n"
   ]
  },
  {
   "cell_type": "code",
   "execution_count": null,
   "metadata": {},
   "outputs": [],
   "source": [
    "#dfPAAC = dfPAAC.drop(columns = '#')\n",
    "#dfPAAC = dfPAAC.drop(columns = 'Label')"
   ]
  },
  {
   "cell_type": "code",
   "execution_count": null,
   "metadata": {},
   "outputs": [],
   "source": [
    "#dfAPAAC = dfAPAAC.join(dfPAAC)"
   ]
  },
  {
   "cell_type": "code",
   "execution_count": null,
   "metadata": {},
   "outputs": [],
   "source": [
    "dfAPAAC"
   ]
  },
  {
   "cell_type": "code",
   "execution_count": null,
   "metadata": {},
   "outputs": [],
   "source": [
    "dfGDP = pd.read_csv('/Users/kbhaskar/Desktop/2023 sci fiar code/Feature Selection/GDPC.csv')"
   ]
  },
  {
   "cell_type": "code",
   "execution_count": null,
   "metadata": {},
   "outputs": [],
   "source": [
    "dfGDP"
   ]
  },
  {
   "cell_type": "code",
   "execution_count": null,
   "metadata": {},
   "outputs": [],
   "source": [
    "labellist = []\n",
    "for ind in dfGDP.index:\n",
    "    if 'seqACP' in str(dfGDP['#'][ind]):\n",
    "        labellist.append(1)\n",
    "    else:\n",
    "        labellist.append(0)\n",
    "dfGDP['Label'] = labellist"
   ]
  },
  {
   "cell_type": "code",
   "execution_count": null,
   "metadata": {},
   "outputs": [],
   "source": [
    "dfGDP = dfGDP.drop(columns='#')"
   ]
  },
  {
   "cell_type": "code",
   "execution_count": null,
   "metadata": {},
   "outputs": [],
   "source": [
    "dfGDP"
   ]
  },
  {
   "cell_type": "code",
   "execution_count": null,
   "metadata": {},
   "outputs": [],
   "source": [
    "dfGDP.corr()"
   ]
  },
  {
   "cell_type": "code",
   "execution_count": null,
   "metadata": {},
   "outputs": [],
   "source": [
    "dfMoran = pd.read_csv('/Users/kbhaskar/Desktop/2023 sci fiar code/Feature Selection/QSOrder.csv')"
   ]
  },
  {
   "cell_type": "code",
   "execution_count": null,
   "metadata": {},
   "outputs": [],
   "source": [
    "labellist = []\n",
    "for ind in dfMoran.index:\n",
    "    if 'seqACP' in str(dfMoran['#'][ind]):\n",
    "        labellist.append(1)\n",
    "    else:\n",
    "        labellist.append(0)\n",
    "dfMoran['Label'] = labellist"
   ]
  },
  {
   "cell_type": "code",
   "execution_count": null,
   "metadata": {},
   "outputs": [],
   "source": [
    "dfMoran = dfMoran.drop(columns='#')"
   ]
  },
  {
   "cell_type": "code",
   "execution_count": null,
   "metadata": {},
   "outputs": [],
   "source": [
    "dfMoran"
   ]
  },
  {
   "cell_type": "code",
   "execution_count": null,
   "metadata": {},
   "outputs": [],
   "source": [
    "dfMoran.corr()"
   ]
  },
  {
   "cell_type": "code",
   "execution_count": null,
   "metadata": {},
   "outputs": [],
   "source": [
    "import pandas as pd\n",
    "dfgk = pd.read_csv('/Users/kbhaskar/Desktop/2023 sci fiar code/Feature Selection/CTDD.csv')\n",
    "df2 =  pd.read_csv('/Users/kbhaskar/Desktop/2023 sci fiar code/Feature Selection/CTDC.csv')\n",
    "labellist = []\n",
    "for ind in df2.index:\n",
    "    if 'seqACP' in str(df2['#'][ind]):\n",
    "        labellist.append(1)\n",
    "    else:\n",
    "        labellist.append(0)\n",
    "dfgk = dfgk.drop(columns = '#')\n",
    "df2 = df2.drop(columns = '#')"
   ]
  },
  {
   "cell_type": "code",
   "execution_count": null,
   "metadata": {},
   "outputs": [],
   "source": [
    "df2 = df2.join(dfgk)\n",
    "df2.isnull().sum().sum()"
   ]
  },
  {
   "cell_type": "code",
   "execution_count": null,
   "metadata": {},
   "outputs": [],
   "source": [
    "df2"
   ]
  },
  {
   "cell_type": "code",
   "execution_count": null,
   "metadata": {},
   "outputs": [],
   "source": [
    "df2['Label'] = labellist"
   ]
  },
  {
   "cell_type": "code",
   "execution_count": null,
   "metadata": {},
   "outputs": [],
   "source": [
    "df2"
   ]
  },
  {
   "cell_type": "code",
   "execution_count": null,
   "metadata": {},
   "outputs": [],
   "source": [
    "#The code below this point is not part of the project and was for experimental purposes "
   ]
  },
  {
   "cell_type": "code",
   "execution_count": null,
   "metadata": {},
   "outputs": [],
   "source": []
  },
  {
   "cell_type": "code",
   "execution_count": null,
   "metadata": {},
   "outputs": [],
   "source": []
  },
  {
   "cell_type": "code",
   "execution_count": null,
   "metadata": {},
   "outputs": [],
   "source": []
  },
  {
   "cell_type": "code",
   "execution_count": null,
   "metadata": {},
   "outputs": [],
   "source": [
    "#Imports - not all were used\n",
    "from scipy.stats.stats import pearsonr\n",
    "import pandas as pd\n",
    "import numpy as np\n",
    "import matplotlib.pyplot as plt\n",
    "%matplotlib inline\n",
    "import seaborn as sns\n",
    "from scipy import stats\n",
    "import warnings\n",
    "from sklearn.metrics import confusion_matrix\n",
    "import sklearn \n",
    "from sklearn.model_selection import train_test_split\n",
    "from sklearn.preprocessing import LabelEncoder\n",
    "from mpl_toolkits.mplot3d import Axes3D "
   ]
  },
  {
   "cell_type": "code",
   "execution_count": null,
   "metadata": {},
   "outputs": [],
   "source": [
    "circ = df2.copy()"
   ]
  },
  {
   "cell_type": "code",
   "execution_count": null,
   "metadata": {},
   "outputs": [],
   "source": [
    "#len(dfPAAC['Xc2.lambda2'])"
   ]
  },
  {
   "cell_type": "code",
   "execution_count": null,
   "metadata": {},
   "outputs": [],
   "source": [
    "#len(dfconfig['C'])"
   ]
  },
  {
   "cell_type": "code",
   "execution_count": null,
   "metadata": {},
   "outputs": [],
   "source": [
    "circ"
   ]
  },
  {
   "cell_type": "code",
   "execution_count": null,
   "metadata": {},
   "outputs": [],
   "source": [
    "plt.figure(figsize=(10,8))\n",
    "\n",
    "plt.title('Violin plot of tumor occurence on expression of ASCRP3001458 or hsa_circRNA_089372', fontsize = 15)\n",
    "sns.violinplot(x=\"Label\", y=\"solventaccess.3.residue100\", data=dfc, inner = \"points\")\n",
    "plt.ylabel('ASCRP3001458 or hsa_circRNA_089372 signal intensity', fontsize=12)\n",
    "plt.xlabel('Tumor', fontsize=12)"
   ]
  },
  {
   "cell_type": "code",
   "execution_count": null,
   "metadata": {},
   "outputs": [],
   "source": [
    "dfc.iloc[0:173].describe()"
   ]
  },
  {
   "cell_type": "code",
   "execution_count": null,
   "metadata": {},
   "outputs": [],
   "source": [
    "#circ=circ.drop(columns='#')"
   ]
  },
  {
   "cell_type": "code",
   "execution_count": null,
   "metadata": {},
   "outputs": [],
   "source": [
    "circ=circ.drop(columns='Label')"
   ]
  },
  {
   "cell_type": "code",
   "execution_count": null,
   "metadata": {},
   "outputs": [],
   "source": [
    "circ.insert(0,'Label',dfg['Label'])"
   ]
  },
  {
   "cell_type": "code",
   "execution_count": null,
   "metadata": {},
   "outputs": [],
   "source": [
    "circ"
   ]
  },
  {
   "cell_type": "code",
   "execution_count": null,
   "metadata": {},
   "outputs": [],
   "source": []
  },
  {
   "cell_type": "code",
   "execution_count": null,
   "metadata": {},
   "outputs": [],
   "source": [
    "circ=(circ.loc[:, circ.columns != 'Label']-circ.loc[:, circ.columns != 'Label'].mean())/circ.loc[:, circ.columns != 'Label'].std()\n",
    "from sklearn.preprocessing import MinMaxScaler\n",
    "\n",
    "#ms = MinMaxScaler()\n",
    "\n",
    "#circ = ms.fit_transform(circ.loc[:, circ.columns != 'Label'])"
   ]
  },
  {
   "cell_type": "code",
   "execution_count": null,
   "metadata": {},
   "outputs": [],
   "source": [
    "circ.insert(0,'Label',dfg['Label'])"
   ]
  },
  {
   "cell_type": "code",
   "execution_count": null,
   "metadata": {},
   "outputs": [],
   "source": [
    "circ"
   ]
  },
  {
   "cell_type": "code",
   "execution_count": null,
   "metadata": {},
   "outputs": [],
   "source": [
    "circ = dfc"
   ]
  },
  {
   "cell_type": "code",
   "execution_count": null,
   "metadata": {},
   "outputs": [],
   "source": [
    "from sklearn.utils import shuffle\n",
    "circ = shuffle(circ, random_state=69)"
   ]
  },
  {
   "cell_type": "code",
   "execution_count": null,
   "metadata": {},
   "outputs": [],
   "source": [
    "X = circ.values\n",
    "y = circ['Label'].values\n",
    "X = np.delete(X,0,axis=1)"
   ]
  },
  {
   "cell_type": "code",
   "execution_count": null,
   "metadata": {},
   "outputs": [],
   "source": [
    "from sklearn.preprocessing import MinMaxScaler\n",
    "\n",
    "scaler = MinMaxScaler()\n",
    "X_normalized = scaler.fit_transform(X)"
   ]
  },
  {
   "cell_type": "code",
   "execution_count": null,
   "metadata": {},
   "outputs": [],
   "source": [
    "from sklearn.preprocessing import StandardScaler, normalize\n",
    "scaler = StandardScaler()\n",
    "X_scaled = scaler.fit_transform(X)\n",
    " \n",
    "# Normalizing the data so that the data approximately\n",
    "# follows a Gaussian distribution\n",
    "X_normalized = normalize(X_scaled)\n",
    " \n",
    "# Converting the numpy array into a pandas DataFrame\n",
    "X_normalized = pd.DataFrame(X_normalized)"
   ]
  },
  {
   "cell_type": "code",
   "execution_count": null,
   "metadata": {},
   "outputs": [],
   "source": [
    "from sklearn.decomposition import PCA\n",
    "pca = PCA(n_components = 20)\n",
    "X_principal = pca.fit_transform(X_normalized)\n",
    "X_principal = pd.DataFrame(X_principal)\n"
   ]
  },
  {
   "cell_type": "code",
   "execution_count": null,
   "metadata": {},
   "outputs": [],
   "source": [
    "X_principal"
   ]
  },
  {
   "cell_type": "code",
   "execution_count": null,
   "metadata": {},
   "outputs": [],
   "source": [
    "accuracies = {}\n",
    "#X will contain circRNA values, y will contain target variable - tumor\n",
    "\n",
    "\n",
    "#split the dataset into 70-30 for training and testing\n",
    "x_train, x_test, y_train, y_test = train_test_split(X,y,test_size = 0.1,stratify =y,random_state=1)\n",
    "scoreList = []"
   ]
  },
  {
   "cell_type": "code",
   "execution_count": null,
   "metadata": {},
   "outputs": [],
   "source": [
    "#create a dict to keep track of the accuracy of each model\n",
    "\n",
    "# KNN Model\n",
    "from sklearn.neighbors import KNeighborsClassifier\n",
    "knn = KNeighborsClassifier(n_neighbors = 4)  \n",
    "knn.fit(x_train, y_train)\n",
    "\n",
    "print(\"{} NN Score: {:.2f}%\".format(2, knn.score(x_test, y_test)*100))\n",
    "knn_predictions = knn.predict(x_test)\n",
    "scoreList.append(knn.score(x_test, y_test))\n",
    "acc = max(scoreList)*100\n",
    "accuracies['KNN'] = acc\n",
    "confusion_matrix(y_test, knn_predictions)"
   ]
  },
  {
   "cell_type": "code",
   "execution_count": null,
   "metadata": {},
   "outputs": [],
   "source": [
    "#random forest classifier\n",
    "from sklearn.ensemble import RandomForestClassifier\n",
    "rf = RandomForestClassifier(n_estimators = 2000, max_depth = 110, min_samples_split = 2, min_samples_leaf = 1, max_features = 'sqrt',bootstrap =False)\n",
    "rf.fit(x_train, y_train)\n",
    "acc = rf.score(x_test,y_test)*100\n",
    "accuracies['Random Forest'] = acc\n",
    "print(\"Random Forest Algorithm Accuracy Score : {:.2f}%\".format(acc))\n",
    "rf_predictions = rf.predict(x_test)\n",
    "confusion_matrix(y_test, rf_predictions)"
   ]
  },
  {
   "cell_type": "code",
   "execution_count": null,
   "metadata": {},
   "outputs": [],
   "source": [
    "from sklearn.model_selection import RandomizedSearchCV\n",
    "\n",
    "# Number of trees in random forest\n",
    "n_estimators = [int(x) for x in np.linspace(start = 200, stop = 2000, num = 10)]\n",
    "# Number of features to consider at every split\n",
    "max_features = ['auto', 'sqrt']\n",
    "# Maximum number of levels in tree\n",
    "max_depth = [int(x) for x in np.linspace(10, 110, num = 11)]\n",
    "max_depth.append(None)\n",
    "# Minimum number of samples required to split a node\n",
    "min_samples_split = [2, 5, 10]\n",
    "# Minimum number of samples required at each leaf node\n",
    "min_samples_leaf = [1, 2, 4]\n",
    "# Method of selecting samples for training each tree\n",
    "bootstrap = [True, False]\n",
    "# Create the random grid\n",
    "random_grid = {'n_estimators': n_estimators,\n",
    "               'max_features': max_features,\n",
    "               'max_depth': max_depth,\n",
    "               'min_samples_split': min_samples_split,\n",
    "               'min_samples_leaf': min_samples_leaf,\n",
    "               'bootstrap': bootstrap}\n",
    "print(random_grid)"
   ]
  },
  {
   "cell_type": "code",
   "execution_count": null,
   "metadata": {},
   "outputs": [],
   "source": [
    "rf3 = RandomForestClassifier()\n",
    "# Random search of parameters, using 3 fold cross validation, \n",
    "# search across 100 different combinations, and use all available cores\n",
    "rf_random = RandomizedSearchCV(estimator = rf3, param_distributions = random_grid, n_iter = 500, cv = 3, verbose=2, random_state=42, n_jobs = -1)\n",
    "# Fit the random search model\n",
    "rf_random.fit(X,y)"
   ]
  },
  {
   "cell_type": "code",
   "execution_count": null,
   "metadata": {},
   "outputs": [],
   "source": [
    "rf_random.best_params_"
   ]
  },
  {
   "cell_type": "code",
   "execution_count": null,
   "metadata": {},
   "outputs": [],
   "source": [
    "#desicion tree \n",
    "from sklearn.tree import DecisionTreeClassifier\n",
    "dtc = DecisionTreeClassifier(random_state = 3)\n",
    "dtc.fit(x_train, y_train)\n",
    "acc = dtc.score(x_test, y_test)*100\n",
    "accuracies['Decision Tree'] = acc\n",
    "print(\"Decision Tree Test Accuracy {:.2f}%\".format(acc))\n",
    "dtc_predictions = dtc.predict(x_test)\n",
    "confusion_matrix(y_test, dtc_predictions)"
   ]
  },
  {
   "cell_type": "code",
   "execution_count": null,
   "metadata": {},
   "outputs": [],
   "source": [
    "#support vector machine\n",
    "from sklearn.svm import SVC\n",
    "svm = SVC(random_state = 4)\n",
    "svm=SVC(probability=True)\n",
    "\n",
    "svm.fit(x_train, y_train)\n",
    "acc = svm.score(x_test,y_test)*100\n",
    "accuracies['SVM'] = acc\n",
    "svm_predictions = svm.predict(x_test)\n",
    "print(\"Test Accuracy of SVM Algorithm: {:.2f}%\".format(acc))\n",
    "confusion_matrix(y_test, svm_predictions)"
   ]
  },
  {
   "cell_type": "code",
   "execution_count": null,
   "metadata": {},
   "outputs": [],
   "source": [
    "#naive bayes\n",
    "from sklearn.naive_bayes import GaussianNB\n",
    "nb = GaussianNB()\n",
    "nb.fit(x_train, y_train)\n",
    "acc = nb.score(x_test,y_test)*100\n",
    "accuracies['Naive Bayes'] = acc\n",
    "nb_predictions = nb.predict(x_test)\n",
    "print(\"Accuracy of Naive Bayes: {:.2f}%\".format(acc))\n",
    "confusion_matrix(y_test, nb_predictions)\n"
   ]
  },
  {
   "cell_type": "code",
   "execution_count": null,
   "metadata": {},
   "outputs": [],
   "source": [
    "#gradient boost\n",
    "from sklearn import ensemble\n",
    "gb = ensemble.GradientBoostingClassifier(learning_rate=1, max_depth=7, n_estimators=250)\n",
    "gb.fit(x_train, y_train)\n",
    "acc = gb.score(x_test,y_test)*100\n",
    "accuracies['Gradient Boosting'] = acc\n",
    "gb_predictions = gb.predict(x_test)\n",
    "print(\"Accuracy of Gradient Boosting: {:.2f}%\".format(acc))\n",
    "confusion_matrix(y_test, gb_predictions)"
   ]
  },
  {
   "cell_type": "code",
   "execution_count": null,
   "metadata": {},
   "outputs": [],
   "source": [
    "#logistic regression\n",
    "from sklearn.linear_model import LogisticRegression\n",
    "lr = LogisticRegression()\n",
    "lr.fit(x_train, y_train)\n",
    "acc = lr.score(x_test,y_test)*100\n",
    "accuracies['Logistic Regression'] = acc\n",
    "lr_predictions = lr.predict(x_test)\n",
    "print(\"Accuracy of Logistic Regression: {:.2f}%\".format(acc))\n",
    "confusion_matrix(y_test, lr_predictions)"
   ]
  },
  {
   "cell_type": "code",
   "execution_count": null,
   "metadata": {},
   "outputs": [],
   "source": [
    "#obtain probability for all classifiers\n",
    "r_probs = [0 for _ in range (len(y_test))]\n",
    "rf_probs = rf.predict_proba(x_test)\n",
    "nb_probs = nb.predict_proba(x_test)\n",
    "knn_probs = knn.predict_proba(x_test)\n",
    "dtc_probs = knn.predict_proba(x_test)\n",
    "svm_probs = svm.predict_proba(x_test)\n",
    "gb_probs = gb.predict_proba(x_test)\n",
    "lr_probs = lr.predict_proba(x_test)\n",
    "#obtain probability for all classifiers\n",
    "r_probs = [0 for _ in range (len(y_test))]\n",
    "rf_probs = rf.predict_proba(x_test)\n",
    "nb_probs = nb.predict_proba(x_test)\n",
    "knn_probs = knn.predict_proba(x_test)\n",
    "dtc_probs = knn.predict_proba(x_test)\n",
    "svm_probs = svm.predict_proba(x_test)\n",
    "gb_probs = gb.predict_proba(x_test)\n",
    "lr_probs = lr.predict_proba(x_test)\n",
    "#obtain probability for all classifiers\n",
    "r_probs = [0 for _ in range (len(y_test))]\n",
    "rf_probs = rf.predict_proba(x_test)\n",
    "nb_probs = nb.predict_proba(x_test)\n",
    "knn_probs = knn.predict_proba(x_test)\n",
    "dtc_probs = knn.predict_proba(x_test)\n",
    "svm_probs = svm.predict_proba(x_test)\n",
    "gb_probs = gb.predict_proba(x_test)\n",
    "lr_probs = lr.predict_proba(x_test)\n",
    "rf_probs = rf_probs[:, 1]\n",
    "nb_probs = nb_probs[:, 1]\n",
    "knn_probs = knn_probs[:, 1]\n",
    "dtc_probs = dtc_probs[:, 1]\n",
    "svm_probs = svm_probs[:, 1]\n",
    "gb_probs = gb_probs[:, 1]\n",
    "lr_probs = lr_probs[:, 1]\n",
    "from sklearn.metrics import roc_curve, roc_auc_score\n",
    "#calculate AUC score\n",
    "r_auc = roc_auc_score(y_test, r_probs)\n",
    "rf_auc = roc_auc_score(y_test, rf_probs)\n",
    "nb_auc = roc_auc_score(y_test, nb_probs)\n",
    "knn_auc = roc_auc_score(y_test,knn_probs)\n",
    "dtc_auc = roc_auc_score(y_test,dtc_probs)\n",
    "svm_auc = roc_auc_score(y_test,svm_probs)\n",
    "gb_auc = roc_auc_score(y_test,gb_probs)\n",
    "lr_auc = roc_auc_score(y_test,lr_probs)"
   ]
  },
  {
   "cell_type": "code",
   "execution_count": null,
   "metadata": {},
   "outputs": [],
   "source": [
    "print('Random (chance) Prediction: AUROC = %.3f' % (r_auc))\n",
    "print('Random Forest: AUROC = %.3f' % (rf_auc))\n",
    "print('Naive Bayes: AUROC = %.3f' % (nb_auc))\n",
    "print('K nearest Neighbor: AUROC = %.3f' % (knn_auc))\n",
    "print('Desicion Tree: AUROC = %.3f' % (dtc_auc))\n",
    "print('Support Vector Machine: AUROC = %.3f' % (svm_auc))\n",
    "print('Gradient Boosting: AUROC = %.3f' % (gb_auc))\n",
    "print('Logistic Regression: AUROC = %.3f' % (lr_auc))\n"
   ]
  },
  {
   "cell_type": "code",
   "execution_count": null,
   "metadata": {},
   "outputs": [],
   "source": [
    "#calculate true postive rate and false positive rate for classifiers\n",
    "r_fpr, r_tpr, _ = roc_curve(y_test, r_probs)\n",
    "rf_fpr, rf_tpr, _ = roc_curve(y_test, rf_probs)\n",
    "nb_fpr, nb_tpr, _ = roc_curve(y_test, nb_probs)\n",
    "knn_fpr, knn_tpr, _ = roc_curve(y_test, knn_probs)\n",
    "dtc_fpr, dtc_tpr, _ = roc_curve(y_test, dtc_probs)\n",
    "svm_fpr, svm_tpr, _ = roc_curve(y_test, svm_probs)\n",
    "gb_fpr, gb_tpr, _ = roc_curve(y_test, gb_probs)\n",
    "lr_fpr, lr_tpr, _ = roc_curve(y_test, lr_probs)"
   ]
  },
  {
   "cell_type": "code",
   "execution_count": null,
   "metadata": {},
   "outputs": [],
   "source": [
    "#plot\n",
    "plt.style.use('classic')\n",
    "plt.figure(figsize=(10, 10), dpi=100)\n",
    "plt.plot(r_fpr, r_tpr, linestyle='--', label='Random prediction (AUROC = %0.3f)' % r_auc)\n",
    "plt.plot(rf_fpr, rf_tpr, marker='.', label='Random Forest (AUROC = %0.3f)' % rf_auc)\n",
    "plt.plot(nb_fpr, nb_tpr, marker='.', label='Naive Bayes (AUROC = %0.3f)' % nb_auc)\n",
    "plt.plot(knn_fpr, knn_tpr, marker='.', label='K Nearest Neighbor (AUROC = %0.3f)' % knn_auc)\n",
    "plt.plot(dtc_fpr, dtc_tpr, marker='.', label='Desicion Tree (AUROC = %0.3f)' % dtc_auc)\n",
    "plt.plot(svm_fpr, svm_tpr, marker='.', label='Support Vector Machine (AUROC = %0.3f)' % svm_auc)\n",
    "plt.plot(gb_fpr, gb_tpr, marker='.', label='Gradient Boosting (AUROC = %0.3f)' % gb_auc)\n",
    "plt.plot(lr_fpr, lr_tpr, marker='.', label='Logistic Regression (AUROC = %0.3f)' % lr_auc)\n",
    "# Title\n",
    "plt.title('ROC Plot for CircRNA-based Tumor Prediction')\n",
    "# Axis labels\n",
    "plt.xlabel('False Positive Rate')\n",
    "plt.ylabel('True Positive Rate')\n",
    "# Show legend\n",
    "plt.legend(loc = 'lower right' ) \n",
    "# Show plot\n",
    "plt.show()"
   ]
  },
  {
   "cell_type": "code",
   "execution_count": null,
   "metadata": {},
   "outputs": [],
   "source": [
    "distr = []\n",
    "for i in lizz:\n",
    "    if 'seq' in i or 'teNEG' in i:\n",
    "        ;\n",
    "    else:\n",
    "        distr.append(len(i))"
   ]
  },
  {
   "cell_type": "code",
   "execution_count": null,
   "metadata": {},
   "outputs": [],
   "source": []
  },
  {
   "cell_type": "code",
   "execution_count": null,
   "metadata": {},
   "outputs": [],
   "source": [
    "# Import the libraries\n",
    "import matplotlib.pyplot as plt\n",
    "import seaborn as sns\n",
    "\n",
    "# matplotlib histogram\n",
    "plt.hist(distr, color = 'blue', edgecolor = 'black',\n",
    "         bins = int(20))\n",
    "\n",
    "# seaborn histogram\n",
    "sns.distplot(distr, hist=True, kde=False, \n",
    "             bins=int(20), color = 'blue',\n",
    "             hist_kws={'edgecolor':'black'})\n",
    "# Add labels\n",
    "plt.title('Histogram of Peptide Length Distribution')\n",
    "plt.xlabel('Length')\n",
    "plt.ylabel('Number')"
   ]
  },
  {
   "cell_type": "code",
   "execution_count": null,
   "metadata": {},
   "outputs": [],
   "source": [
    "from sklearn.model_selection import StratifiedKFold\n",
    "from sklearn.model_selection import KFold\n",
    "from statistics import mean\n",
    "#stratified k-fold - splits test data into equal splits of 0s and 1s to prevent bias/overfitting\n",
    "colors = [\"purple\", \"green\", \"orange\", \"magenta\",\"#CFC60E\",\"#0FBBAE\"]\n",
    "scores_svm =[]\n",
    "scores_knn =[]\n",
    "scores_rf =[]\n",
    "scores_nb =[]\n",
    "scores_dtc =[]\n",
    "scores_gb =[]\n",
    "scores_lr =[]\n",
    "train1,test1,train2,test2 = 0,0,0,0\n",
    "def getScore (model,train1,train2,test1,test2):\n",
    "    model.fit(train1,train2)\n",
    "    return model.score(test1,test2)\n",
    "folds = StratifiedKFold(n_splits = 10)\n",
    "for train_index, test_index in folds.split(X,y):\n",
    "    train1,test1,train2,test2=X[train_index],X[test_index],y[train_index],y[test_index]\n",
    "    scores_svm.append(getScore(svm,train1,train2,test1,test2))\n",
    "    scores_knn.append(getScore(knn,train1,train2,test1,test2))\n",
    "    scores_rf.append(getScore(rf,train1,train2,test1,test2))\n",
    "    scores_nb.append(getScore(nb,train1,train2,test1,test2))\n",
    "    scores_dtc.append(getScore(dtc,train1,train2,test1,test2))\n",
    "    scores_gb.append(getScore(gb,train1,train2,test1,test2))\n",
    "    scores_lr.append(getScore(lr,train1,train2,test1,test2))\n",
    "svmScore = mean(scores_svm)*100\n",
    "knnScore = mean(scores_knn)*100\n",
    "rfScore = mean(scores_rf)*100\n",
    "nbScore = mean(scores_nb)*100\n",
    "dtcScore = mean(scores_dtc)*100\n",
    "gbScore = mean(scores_gb)*100\n",
    "lrScore = mean(scores_lr)*100\n",
    "dic = {'K Nearest Neighbor':knnScore,'Random Forest' : rfScore, 'Desicion Tree' : dtcScore, 'Support vector machine' : svmScore, 'Naive Bayes' : nbScore,'Gradient Boosting' : gbScore, 'Logistic Regression' : lrScore}\n",
    "sns.set_style(\"whitegrid\")\n",
    "plt.figure(figsize=(16,6))\n",
    "plt.yticks(np.arange(0,100,10))\n",
    "plt.ylabel(\"Accuracy %\")\n",
    "plt.xlabel(\"Algorithms\")\n",
    "sns.barplot(x=list(dic.keys()), y=list(dic.values()), palette=colors)\n",
    "plt.show()\n",
    "print(\"The accuracies are :\")\n",
    "print(knnScore,rfScore, dtcScore, svmScore, nbScore, gbScore, lrScore)"
   ]
  },
  {
   "cell_type": "code",
   "execution_count": null,
   "metadata": {},
   "outputs": [],
   "source": [
    "#same process for AUROC, except use stratified k-fold data that has been split\n",
    "r_probsCross = [0 for _ in range (len(test2))]\n",
    "rf_probsCross = rf.predict_proba(test1)\n",
    "nb_probsCross = nb.predict_proba(test1)\n",
    "knn_probsCross = knn.predict_proba(test1)\n",
    "dtc_probsCross = knn.predict_proba(test1)\n",
    "svm_probsCross = svm.predict_proba(test1)\n",
    "gb_probsCross = gb.predict_proba(test1)\n",
    "lr_probsCross = lr.predict_proba(test1)\n",
    "rf_probsCross = rf_probsCross[:, 1]\n",
    "nb_probsCross = nb_probsCross[:, 1]\n",
    "knn_probsCross = knn_probsCross[:, 1]\n",
    "dtc_probsCross = dtc_probsCross[:, 1]\n",
    "svm_probsCross = svm_probsCross[:, 1]\n",
    "gb_probsCross = gb_probsCross[:, 1]\n",
    "lr_probsCross = lr_probsCross[:, 1]\n",
    "r_aucCross = roc_auc_score(test2, r_probsCross)\n",
    "rf_aucCross = roc_auc_score(test2, rf_probsCross)\n",
    "nb_aucCross = roc_auc_score(test2, nb_probsCross)\n",
    "knn_aucCross = roc_auc_score(test2,knn_probsCross)\n",
    "dtc_aucCross = roc_auc_score(test2,dtc_probsCross)\n",
    "svm_aucCross = roc_auc_score(test2,svm_probsCross)\n",
    "gb_aucCross = roc_auc_score(test2,gb_probsCross)\n",
    "lr_aucCross = roc_auc_score(test2,lr_probsCross)\n",
    "r_fprCross, r_tprCross, _ = roc_curve(test2, r_probsCross)\n",
    "rf_fprCross, rf_tprCross, _ = roc_curve(test2, rf_probsCross)\n",
    "nb_fprCross, nb_tprCross, _ = roc_curve(test2, nb_probsCross)\n",
    "knn_fprCross, knn_tprCross, _ = roc_curve(test2, knn_probsCross)\n",
    "dtc_fprCross, dtc_tprCross, _ = roc_curve(test2, dtc_probsCross)\n",
    "svm_fprCross, svm_tprCross, _ = roc_curve(test2, svm_probsCross)\n",
    "gb_fprCross, gb_tprCross, _ = roc_curve(test2, gb_probsCross)\n",
    "lr_fprCross, lr_tprCross, _ = roc_curve(test2, lr_probsCross)"
   ]
  },
  {
   "cell_type": "code",
   "execution_count": null,
   "metadata": {},
   "outputs": [],
   "source": [
    "plt.style.use('classic')\n",
    "plt.figure(figsize=(10, 10), dpi=100)\n",
    "plt.plot(r_fprCross, r_tprCross, linestyle='--', label='Random prediction (AUROC = %0.3f)' % r_aucCross)\n",
    "plt.plot(rf_fprCross, rf_tprCross, marker='.', label='Random Forest (AUROC = %0.3f)' % rf_aucCross)\n",
    "plt.plot(nb_fprCross, nb_tprCross, marker='.', label='Naive Bayes (AUROC = %0.3f)' % nb_aucCross)\n",
    "plt.plot(knn_fprCross, knn_tprCross, marker='.', label='K Nearest Neighbor (AUROC = %0.3f)' % knn_aucCross)\n",
    "plt.plot(dtc_fprCross, dtc_tprCross, marker='.', label='Desicion Tree (AUROC = %0.3f)' % dtc_aucCross)\n",
    "plt.plot(svm_fprCross, svm_tprCross, marker='.', label='Support Vector Machine (AUROC = %0.3f)' % svm_aucCross)\n",
    "plt.plot(gb_fprCross, gb_tprCross, marker='.', label='Gradient Boosting (AUROC = %0.3f)' % gb_aucCross)\n",
    "plt.plot(lr_fprCross, lr_tprCross, marker='.', label='Logistic Regression (AUROC = %0.3f)' % lr_aucCross)\n",
    "# Title\n",
    "plt.title('ROC Plot for CircRNA-based Tumor Prediction Cross Validation')\n",
    "# Axis labels\n",
    "plt.xlabel('False Positive Rate')\n",
    "plt.ylabel('True Positive Rate')\n",
    "# Show legend\n",
    "plt.legend(loc = 'lower right' )\n",
    "# Show plot\n",
    "plt.show()"
   ]
  },
  {
   "cell_type": "code",
   "execution_count": null,
   "metadata": {},
   "outputs": [],
   "source": [
    "circ = pd.DataFrame()\n",
    "\n",
    "circ['Label'] = dfg['Label']\n",
    "circ['uncharge'] = dfg['uncharge']\n",
    "circ['alphatic'] = dfg['alphatic']\n",
    "circ['C'] = dfconfig['C']\n",
    "circ['G'] = dfconfig['G']\n",
    "circ['P'] = dfconfig['P']\n",
    "circ['hydrophobicity_FASG890101.G2'] = dfctc['hydrophobicity_FASG890101.G2']\n",
    "circ['secondarystruct.G1'] = dfctc['secondarystruct.G1']\n",
    "circ['normwaalsvolume.G1'] = dfctc['normwaalsvolume.G1']\n",
    "circ['gGrantham.lag4'] = dfSOC['gGrantham.lag4']\n",
    "circ['Xc1.G'] = dfPAAC['Xc1.G']\n",
    "circ['Xc2.lambda2'] = dfPAAC['Xc2.lambda2']\n",
    "circ['Xc1.P'] = dfPAAC['Xc1.P']"
   ]
  },
  {
   "cell_type": "code",
   "execution_count": null,
   "metadata": {},
   "outputs": [],
   "source": [
    "df2 = pd.read_csv('/Users/kbhaskar/Desktop/2023 sci fiar code/Feature Selection/phyloCTDD.csv')\n",
    "dfTest = pd.read_csv('/Users/kbhaskar/Desktop/2023 sci fiar code/Feature Selection/phyloDBAPAACless25.csv')\n",
    "df2 = df2.drop(columns='#')\n",
    "dfTest = dfTest.drop(columns='#')\n",
    "dfTest = dfTest.join(df2)"
   ]
  },
  {
   "cell_type": "code",
   "execution_count": null,
   "metadata": {},
   "outputs": [],
   "source": [
    "dfTest"
   ]
  },
  {
   "cell_type": "code",
   "execution_count": null,
   "metadata": {},
   "outputs": [],
   "source": [
    "dfTest.isnull().sum().sum()"
   ]
  },
  {
   "cell_type": "code",
   "execution_count": null,
   "metadata": {},
   "outputs": [],
   "source": [
    "#dfTest = dfTest.drop(columns = '#')"
   ]
  },
  {
   "cell_type": "code",
   "execution_count": null,
   "metadata": {},
   "outputs": [],
   "source": [
    "from sklearn.preprocessing import MinMaxScaler\n",
    "\n",
    "scaler = MinMaxScaler()\n",
    "dfNormalized = scaler.fit_transform(dfTest)"
   ]
  },
  {
   "cell_type": "code",
   "execution_count": null,
   "metadata": {},
   "outputs": [],
   "source": [
    "rf_predictions = rf.predict_proba(dfNormalized)"
   ]
  },
  {
   "cell_type": "code",
   "execution_count": null,
   "metadata": {},
   "outputs": [],
   "source": [
    "print(\"done\")"
   ]
  },
  {
   "cell_type": "code",
   "execution_count": null,
   "metadata": {},
   "outputs": [],
   "source": [
    "len(gb_predictions)"
   ]
  },
  {
   "cell_type": "code",
   "execution_count": null,
   "metadata": {},
   "outputs": [],
   "source": [
    "rf_predictions"
   ]
  },
  {
   "cell_type": "code",
   "execution_count": null,
   "metadata": {},
   "outputs": [],
   "source": [
    "gb_predictions[0]"
   ]
  },
  {
   "cell_type": "code",
   "execution_count": null,
   "metadata": {},
   "outputs": [],
   "source": [
    "count1 = 0\n",
    "count2 = 0\n",
    "indarr = []\n",
    "for i in rf_predictions:\n",
    "    if i[1] > 0.9:\n",
    "        count1+=1\n",
    "        indarr.append(count2)\n",
    "    count2+=1\n",
    "    "
   ]
  },
  {
   "cell_type": "code",
   "execution_count": null,
   "metadata": {},
   "outputs": [],
   "source": [
    "print(count1)"
   ]
  },
  {
   "cell_type": "code",
   "execution_count": null,
   "metadata": {},
   "outputs": [],
   "source": [
    "indarr"
   ]
  },
  {
   "cell_type": "code",
   "execution_count": null,
   "metadata": {},
   "outputs": [],
   "source": [
    "len(indarr)"
   ]
  },
  {
   "cell_type": "code",
   "execution_count": null,
   "metadata": {},
   "outputs": [],
   "source": [
    "f = open('PhyloDBless25.txt','r')\n",
    "# reading the file\n",
    "data = f.read()\n",
    "  \n",
    "# replacing end splitting the text \n",
    "# when newline ('\\n') is seen.\n",
    "lizz = data.split(\"\\n\")\n",
    "lizz2 = [x for x in lizz if not \">\" in x]"
   ]
  },
  {
   "cell_type": "code",
   "execution_count": null,
   "metadata": {},
   "outputs": [],
   "source": [
    "len(lizz2)"
   ]
  },
  {
   "cell_type": "code",
   "execution_count": null,
   "metadata": {},
   "outputs": [],
   "source": [
    "for i in indarr:\n",
    "    print(lizz2[i])"
   ]
  },
  {
   "cell_type": "code",
   "execution_count": null,
   "metadata": {},
   "outputs": [],
   "source": [
    "def fastaconverter(lizz):\n",
    "    lizz2 = []\n",
    "    count1 = 0\n",
    "    for i in lizz:\n",
    "        lizz2.append('>seq' + str(count1))\n",
    "        lizz2.append(i)\n",
    "        count1+=1\n",
    "    return lizz2"
   ]
  },
  {
   "cell_type": "code",
   "execution_count": null,
   "metadata": {},
   "outputs": [],
   "source": [
    "lizz3 = [lizz2[x] for x in indarr]\n",
    "lizz4 = fastaconverter(lizz3)\n",
    "for i in lizz4:\n",
    "    print(i)"
   ]
  },
  {
   "cell_type": "code",
   "execution_count": null,
   "metadata": {},
   "outputs": [],
   "source": []
  }
 ],
 "metadata": {
  "kernelspec": {
   "display_name": "Python 3",
   "language": "python",
   "name": "python3"
  },
  "language_info": {
   "codemirror_mode": {
    "name": "ipython",
    "version": 3
   },
   "file_extension": ".py",
   "mimetype": "text/x-python",
   "name": "python",
   "nbconvert_exporter": "python",
   "pygments_lexer": "ipython3",
   "version": "3.8.5"
  }
 },
 "nbformat": 4,
 "nbformat_minor": 5
}
